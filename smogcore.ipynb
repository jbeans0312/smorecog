{
 "cells": [
  {
   "cell_type": "markdown",
   "metadata": {},
   "source": [
    "### Imports\n",
    "This code imports the necessary libraries and sets up the environment.\n",
    "\n",
    "`spotipy` is used to fetch spotify song data.\n",
    "\n",
    "`os` is used to access local files.\n",
    "\n",
    "`dotenv` is used to load env files with api keys (you will need to set this up).\n",
    "\n",
    "`tqdm` is used to provide a progress bar while fetching spotify playlist data."
   ]
  },
  {
   "cell_type": "code",
   "execution_count": 1,
   "metadata": {},
   "outputs": [],
   "source": [
    "import spotipy\n",
    "import os\n",
    "import pandas as pd\n",
    "from dotenv import load_dotenv\n",
    "from spotipy.oauth2 import SpotifyClientCredentials\n",
    "from tqdm import tqdm\n",
    "from scripts.fetch_smog import fetch_smog"
   ]
  },
  {
   "cell_type": "markdown",
   "metadata": {},
   "source": [
    "### Spotipy auth setup\n",
    "Before using this notebook you will need to set up a spotify developer account to get your own api keys.\n",
    "\n",
    "https://developer.spotify.com/documentation/web-api/tutorials/getting-started"
   ]
  },
  {
   "cell_type": "code",
   "execution_count": 2,
   "metadata": {},
   "outputs": [],
   "source": [
    "load_dotenv()\n",
    "\n",
    "client_credentials_manager = \\\n",
    "    SpotifyClientCredentials(client_id=os.getenv(\"SECRET1\"), client_secret=os.getenv(\"SECRET2\"))\n",
    "sp = spotipy.Spotify(client_credentials_manager=client_credentials_manager)"
   ]
  },
  {
   "cell_type": "markdown",
   "metadata": {},
   "source": [
    "### Playlist setup\n",
    "This code sets up the playlist URI.\n",
    "\n",
    "Copy the playlist URL from your spotify playlist and paste it in the `smog_link` variable."
   ]
  },
  {
   "cell_type": "code",
   "execution_count": 3,
   "metadata": {},
   "outputs": [],
   "source": [
    "#frost children discord smogcore playlist \"https://open.spotify.com/playlist/1LF6XeBlaD0yrDQ0t5rdEb?si=7a138d8c8c3540fb\"\n",
    "smog_link = \"https://open.spotify.com/playlist/5j2RVxFW7kuVGLZkeoQvxN?si=76919477f0314637\"\n",
    "smog_URI = smog_link.split('/')[-1].split('?')[0]"
   ]
  },
  {
   "cell_type": "markdown",
   "metadata": {},
   "source": [
    "### Scrape playlist data\n",
    "This code calls `fetch_smog` to scrap playlist data.\n",
    "\n",
    "**This can take a while if you have a large playlist**, as it saves your data locally for you to play with!"
   ]
  },
  {
   "cell_type": "code",
   "execution_count": 7,
   "metadata": {},
   "outputs": [
    {
     "name": "stdout",
     "output_type": "stream",
     "text": [
      "Scraping smog data\n",
      "{'name': 'beans 4'}\n"
     ]
    },
    {
     "name": "stderr",
     "output_type": "stream",
     "text": [
      "Processing: 7KPibpTWZTtzUuhiNWX6d3:  98%|█████████▊| 45/46 [00:12<00:00,  3.53it/s]\n"
     ]
    }
   ],
   "source": [
    "print('Scraping smog data')\n",
    "playlist_name, smog_df = fetch_smog(smog_URI, sp)\n",
    "playlist_name = playlist_name.replace(\" \", \"\")\n",
    "smog_df = smog_df.dropna()"
   ]
  },
  {
   "cell_type": "markdown",
   "metadata": {},
   "source": [
    "Run this to display your data."
   ]
  },
  {
   "cell_type": "code",
   "execution_count": null,
   "metadata": {},
   "outputs": [],
   "source": [
    "display(smog_df)"
   ]
  },
  {
   "cell_type": "markdown",
   "metadata": {},
   "source": [
    "Run this to save your playlist data to a file."
   ]
  },
  {
   "cell_type": "code",
   "execution_count": 5,
   "metadata": {},
   "outputs": [],
   "source": [
    "data_path = f'./smog_data{playlist_name}.csv'\n",
    "smog_df.to_csv(data_path, index=False, encoding='utf8')"
   ]
  }
 ],
 "metadata": {
  "kernelspec": {
   "display_name": "Python 3",
   "language": "python",
   "name": "python3"
  },
  "language_info": {
   "codemirror_mode": {
    "name": "ipython",
    "version": 3
   },
   "file_extension": ".py",
   "mimetype": "text/x-python",
   "name": "python",
   "nbconvert_exporter": "python",
   "pygments_lexer": "ipython3",
   "version": "3.10.13"
  }
 },
 "nbformat": 4,
 "nbformat_minor": 2
}
